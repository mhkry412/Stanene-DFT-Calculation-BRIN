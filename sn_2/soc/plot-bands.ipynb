{
 "cells": [
  {
   "cell_type": "code",
   "execution_count": 3,
   "id": "assured-artwork",
   "metadata": {},
   "outputs": [
    {
     "name": "stderr",
     "output_type": "stream",
     "text": [
      "<>:36: SyntaxWarning: invalid escape sequence '\\G'\n",
      "<>:36: SyntaxWarning: invalid escape sequence '\\G'\n",
      "<>:36: SyntaxWarning: invalid escape sequence '\\G'\n",
      "<>:36: SyntaxWarning: invalid escape sequence '\\G'\n",
      "C:\\Users\\HANDAR\\AppData\\Local\\Temp\\ipykernel_49236\\1943629068.py:36: SyntaxWarning: invalid escape sequence '\\G'\n",
      "  plt.xticks([gG1, K, M, gG2], ['$\\Gamma$', 'K', 'M', '$\\Gamma$'])\n",
      "C:\\Users\\HANDAR\\AppData\\Local\\Temp\\ipykernel_49236\\1943629068.py:36: SyntaxWarning: invalid escape sequence '\\G'\n",
      "  plt.xticks([gG1, K, M, gG2], ['$\\Gamma$', 'K', 'M', '$\\Gamma$'])\n"
     ]
    },
    {
     "ename": "ValueError",
     "evalue": "cannot reshape array of size 392 into shape (12)",
     "output_type": "error",
     "traceback": [
      "\u001b[1;31m---------------------------------------------------------------------------\u001b[0m",
      "\u001b[1;31mValueError\u001b[0m                                Traceback (most recent call last)",
      "Cell \u001b[1;32mIn[3], line 12\u001b[0m\n\u001b[0;32m     10\u001b[0m data \u001b[38;5;241m=\u001b[39m np\u001b[38;5;241m.\u001b[39mloadtxt(\u001b[38;5;124m'\u001b[39m\u001b[38;5;124mstanene.bands.gnu\u001b[39m\u001b[38;5;124m'\u001b[39m)\n\u001b[0;32m     11\u001b[0m k \u001b[38;5;241m=\u001b[39m np\u001b[38;5;241m.\u001b[39munique(data[:, \u001b[38;5;241m0\u001b[39m])\n\u001b[1;32m---> 12\u001b[0m bands \u001b[38;5;241m=\u001b[39m \u001b[43mnp\u001b[49m\u001b[38;5;241;43m.\u001b[39;49m\u001b[43mreshape\u001b[49m\u001b[43m(\u001b[49m\u001b[43mdata\u001b[49m\u001b[43m[\u001b[49m\u001b[43m:\u001b[49m\u001b[43m,\u001b[49m\u001b[43m \u001b[49m\u001b[38;5;241;43m1\u001b[39;49m\u001b[43m]\u001b[49m\u001b[43m,\u001b[49m\u001b[43m \u001b[49m\u001b[43m(\u001b[49m\u001b[38;5;241;43m-\u001b[39;49m\u001b[38;5;241;43m1\u001b[39;49m\u001b[43m,\u001b[49m\u001b[43m \u001b[49m\u001b[38;5;28;43mlen\u001b[39;49m\u001b[43m(\u001b[49m\u001b[43mk\u001b[49m\u001b[43m)\u001b[49m\u001b[43m)\u001b[49m\u001b[43m)\u001b[49m\n\u001b[0;32m     14\u001b[0m \u001b[38;5;66;03m# Set high-symmetry points from nscf.in\u001b[39;00m\n\u001b[0;32m     15\u001b[0m gG1 \u001b[38;5;241m=\u001b[39m k[\u001b[38;5;241m0\u001b[39m]; K \u001b[38;5;241m=\u001b[39m k[\u001b[38;5;241m40\u001b[39m]; M \u001b[38;5;241m=\u001b[39m k[\u001b[38;5;241m60\u001b[39m]; gG2 \u001b[38;5;241m=\u001b[39m k[\u001b[38;5;241m90\u001b[39m]\n",
      "File \u001b[1;32m~\\AppData\\Local\\Packages\\PythonSoftwareFoundation.Python.3.12_qbz5n2kfra8p0\\LocalCache\\local-packages\\Python312\\site-packages\\numpy\\core\\fromnumeric.py:285\u001b[0m, in \u001b[0;36mreshape\u001b[1;34m(a, newshape, order)\u001b[0m\n\u001b[0;32m    200\u001b[0m \u001b[38;5;129m@array_function_dispatch\u001b[39m(_reshape_dispatcher)\n\u001b[0;32m    201\u001b[0m \u001b[38;5;28;01mdef\u001b[39;00m \u001b[38;5;21mreshape\u001b[39m(a, newshape, order\u001b[38;5;241m=\u001b[39m\u001b[38;5;124m'\u001b[39m\u001b[38;5;124mC\u001b[39m\u001b[38;5;124m'\u001b[39m):\n\u001b[0;32m    202\u001b[0m \u001b[38;5;250m    \u001b[39m\u001b[38;5;124;03m\"\"\"\u001b[39;00m\n\u001b[0;32m    203\u001b[0m \u001b[38;5;124;03m    Gives a new shape to an array without changing its data.\u001b[39;00m\n\u001b[0;32m    204\u001b[0m \n\u001b[1;32m   (...)\u001b[0m\n\u001b[0;32m    283\u001b[0m \u001b[38;5;124;03m           [5, 6]])\u001b[39;00m\n\u001b[0;32m    284\u001b[0m \u001b[38;5;124;03m    \"\"\"\u001b[39;00m\n\u001b[1;32m--> 285\u001b[0m     \u001b[38;5;28;01mreturn\u001b[39;00m \u001b[43m_wrapfunc\u001b[49m\u001b[43m(\u001b[49m\u001b[43ma\u001b[49m\u001b[43m,\u001b[49m\u001b[43m \u001b[49m\u001b[38;5;124;43m'\u001b[39;49m\u001b[38;5;124;43mreshape\u001b[39;49m\u001b[38;5;124;43m'\u001b[39;49m\u001b[43m,\u001b[49m\u001b[43m \u001b[49m\u001b[43mnewshape\u001b[49m\u001b[43m,\u001b[49m\u001b[43m \u001b[49m\u001b[43morder\u001b[49m\u001b[38;5;241;43m=\u001b[39;49m\u001b[43morder\u001b[49m\u001b[43m)\u001b[49m\n",
      "File \u001b[1;32m~\\AppData\\Local\\Packages\\PythonSoftwareFoundation.Python.3.12_qbz5n2kfra8p0\\LocalCache\\local-packages\\Python312\\site-packages\\numpy\\core\\fromnumeric.py:59\u001b[0m, in \u001b[0;36m_wrapfunc\u001b[1;34m(obj, method, *args, **kwds)\u001b[0m\n\u001b[0;32m     56\u001b[0m     \u001b[38;5;28;01mreturn\u001b[39;00m _wrapit(obj, method, \u001b[38;5;241m*\u001b[39margs, \u001b[38;5;241m*\u001b[39m\u001b[38;5;241m*\u001b[39mkwds)\n\u001b[0;32m     58\u001b[0m \u001b[38;5;28;01mtry\u001b[39;00m:\n\u001b[1;32m---> 59\u001b[0m     \u001b[38;5;28;01mreturn\u001b[39;00m \u001b[43mbound\u001b[49m\u001b[43m(\u001b[49m\u001b[38;5;241;43m*\u001b[39;49m\u001b[43margs\u001b[49m\u001b[43m,\u001b[49m\u001b[43m \u001b[49m\u001b[38;5;241;43m*\u001b[39;49m\u001b[38;5;241;43m*\u001b[39;49m\u001b[43mkwds\u001b[49m\u001b[43m)\u001b[49m\n\u001b[0;32m     60\u001b[0m \u001b[38;5;28;01mexcept\u001b[39;00m \u001b[38;5;167;01mTypeError\u001b[39;00m:\n\u001b[0;32m     61\u001b[0m     \u001b[38;5;66;03m# A TypeError occurs if the object does have such a method in its\u001b[39;00m\n\u001b[0;32m     62\u001b[0m     \u001b[38;5;66;03m# class, but its signature is not identical to that of NumPy's. This\u001b[39;00m\n\u001b[1;32m   (...)\u001b[0m\n\u001b[0;32m     66\u001b[0m     \u001b[38;5;66;03m# Call _wrapit from within the except clause to ensure a potential\u001b[39;00m\n\u001b[0;32m     67\u001b[0m     \u001b[38;5;66;03m# exception has a traceback chain.\u001b[39;00m\n\u001b[0;32m     68\u001b[0m     \u001b[38;5;28;01mreturn\u001b[39;00m _wrapit(obj, method, \u001b[38;5;241m*\u001b[39margs, \u001b[38;5;241m*\u001b[39m\u001b[38;5;241m*\u001b[39mkwds)\n",
      "\u001b[1;31mValueError\u001b[0m: cannot reshape array of size 392 into shape (12)"
     ]
    }
   ],
   "source": [
    "# Import the necessary packages and modules\n",
    "import matplotlib.pyplot as plt\n",
    "plt.style.use('../../matplotlib/sci.mplstyle')\n",
    "import numpy as np\n",
    "\n",
    "# The Fermi energy, find it in scf.out\n",
    "efermi = -1.6790 \n",
    "\n",
    "# Load data from gr.bands.gnu\n",
    "data = np.loadtxt('stanene.bands.gnu')\n",
    "k = np.unique(data[:, 0])\n",
    "bands = np.reshape(data[:, 1], (-1, len(k)))\n",
    "    \n",
    "# Set high-symmetry points from nscf.in\n",
    "gG1 = k[0]; K = k[40]; M = k[60]; gG2 = k[90]\n",
    "\n",
    "# Create figure object\n",
    "plt.figure()\n",
    "# Plot dotted line at Fermi energy\n",
    "plt.axhline(0, c='gray', ls=':')\n",
    "# Plot dotted lines at high-symmetry points\n",
    "plt.axvline(K, c='gray')\n",
    "plt.axvline(M, c='gray')\n",
    "\n",
    "# Plot band structure\n",
    "for band in range(len(bands)):\n",
    "    plt.plot(k, bands[band, :]-efermi, c='b')\n",
    "\n",
    "# Add the x and y-axis labels\n",
    "plt.xlabel('')\n",
    "plt.ylabel('Energy (eV)')\n",
    "# Set the axis limits\n",
    "plt.xlim(gG1, gG2)\n",
    "plt.ylim (-20, 20)\n",
    "# Add labels for high-symmetry points\n",
    "plt.xticks([gG1, K, M, gG2], ['$\\Gamma$', 'K', 'M', '$\\Gamma$'])\n",
    "# Hide x-axis minor ticks\n",
    "plt.tick_params(axis='x', which='minor', bottom=False, top=False)\n",
    "# Save figure to the pdf file\n",
    "plt.savefig('plot-bands.pdf')\n",
    "# Show figure\n",
    "plt.show()"
   ]
  }
 ],
 "metadata": {
  "kernelspec": {
   "display_name": "Python 3 (ipykernel)",
   "language": "python",
   "name": "python3"
  },
  "language_info": {
   "codemirror_mode": {
    "name": "ipython",
    "version": 3
   },
   "file_extension": ".py",
   "mimetype": "text/x-python",
   "name": "python",
   "nbconvert_exporter": "python",
   "pygments_lexer": "ipython3",
   "version": "3.12.4"
  }
 },
 "nbformat": 4,
 "nbformat_minor": 5
}
